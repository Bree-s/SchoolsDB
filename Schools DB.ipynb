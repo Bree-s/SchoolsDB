{
 "cells": [
  {
   "cell_type": "code",
   "execution_count": 1,
   "metadata": {},
   "outputs": [],
   "source": [
    "import mysql.connector\n",
    "import csv\n",
    "import pymysql"
   ]
  },
  {
   "cell_type": "code",
   "execution_count": null,
   "metadata": {},
   "outputs": [],
   "source": [
    "!pip install pymysql"
   ]
  },
  {
   "cell_type": "code",
   "execution_count": 4,
   "metadata": {},
   "outputs": [],
   "source": [
    "cursor = mydb.cursor()"
   ]
  },
  {
   "cell_type": "code",
   "execution_count": 6,
   "metadata": {},
   "outputs": [
    {
     "name": "stdout",
     "output_type": "stream",
     "text": [
      "Ready to start again\n"
     ]
    }
   ],
   "source": [
    "mydb = mysql.connector.connect(\n",
    "    host='localhost',\n",
    "    user='root',\n",
    "    password='solo2018',\n",
    "    database='Academics2'\n",
    "    \n",
    ")\n",
    "\n",
    "print(\"Ready to start again\")"
   ]
  },
  {
   "cell_type": "code",
   "execution_count": null,
   "metadata": {},
   "outputs": [],
   "source": [
    "print(f'The version of MySQL connected to us {database.get_server_info()}')\n",
    "cursor = mydb.cursor()"
   ]
  },
  {
   "cell_type": "code",
   "execution_count": 5,
   "metadata": {},
   "outputs": [
    {
     "name": "stdout",
     "output_type": "stream",
     "text": [
      "Database Academics created successfully\n"
     ]
    }
   ],
   "source": [
    "cursor.execute('CREATE DATABASE IF NOT EXISTS Academics2')\n",
    "print(\"Database Academics created successfully\")"
   ]
  },
  {
   "cell_type": "code",
   "execution_count": 7,
   "metadata": {},
   "outputs": [
    {
     "ename": "ReferenceError",
     "evalue": "weakly-referenced object no longer exists",
     "output_type": "error",
     "traceback": [
      "\u001b[1;31m---------------------------------------------------------------------------\u001b[0m",
      "\u001b[1;31mReferenceError\u001b[0m                            Traceback (most recent call last)",
      "\u001b[1;32m<ipython-input-7-aed0cb7d0c4f>\u001b[0m in \u001b[0;36m<module>\u001b[1;34m\u001b[0m\n\u001b[1;32m----> 1\u001b[1;33m \u001b[0mcursor\u001b[0m\u001b[1;33m.\u001b[0m\u001b[0mexecute\u001b[0m\u001b[1;33m(\u001b[0m\u001b[1;34m\"SHOW DATABASES\"\u001b[0m\u001b[1;33m)\u001b[0m\u001b[1;33m\u001b[0m\u001b[1;33m\u001b[0m\u001b[0m\n\u001b[0m\u001b[0;32m      2\u001b[0m \u001b[1;32mfor\u001b[0m \u001b[0mx\u001b[0m \u001b[1;32min\u001b[0m \u001b[0mcursor\u001b[0m\u001b[1;33m:\u001b[0m\u001b[1;33m\u001b[0m\u001b[1;33m\u001b[0m\u001b[0m\n\u001b[0;32m      3\u001b[0m     \u001b[0mprint\u001b[0m\u001b[1;33m(\u001b[0m\u001b[0mx\u001b[0m\u001b[1;33m)\u001b[0m\u001b[1;33m\u001b[0m\u001b[1;33m\u001b[0m\u001b[0m\n",
      "\u001b[1;32m~\\Anaconda3\\lib\\site-packages\\mysql\\connector\\cursor.py\u001b[0m in \u001b[0;36mexecute\u001b[1;34m(self, operation, params, multi)\u001b[0m\n\u001b[0;32m    534\u001b[0m             \u001b[1;32mreturn\u001b[0m \u001b[1;32mNone\u001b[0m\u001b[1;33m\u001b[0m\u001b[1;33m\u001b[0m\u001b[0m\n\u001b[0;32m    535\u001b[0m \u001b[1;33m\u001b[0m\u001b[0m\n\u001b[1;32m--> 536\u001b[1;33m         \u001b[1;32mif\u001b[0m \u001b[1;32mnot\u001b[0m \u001b[0mself\u001b[0m\u001b[1;33m.\u001b[0m\u001b[0m_connection\u001b[0m\u001b[1;33m:\u001b[0m\u001b[1;33m\u001b[0m\u001b[1;33m\u001b[0m\u001b[0m\n\u001b[0m\u001b[0;32m    537\u001b[0m             \u001b[1;32mraise\u001b[0m \u001b[0merrors\u001b[0m\u001b[1;33m.\u001b[0m\u001b[0mProgrammingError\u001b[0m\u001b[1;33m(\u001b[0m\u001b[1;34m\"Cursor is not connected\"\u001b[0m\u001b[1;33m)\u001b[0m\u001b[1;33m\u001b[0m\u001b[1;33m\u001b[0m\u001b[0m\n\u001b[0;32m    538\u001b[0m \u001b[1;33m\u001b[0m\u001b[0m\n",
      "\u001b[1;31mReferenceError\u001b[0m: weakly-referenced object no longer exists"
     ]
    }
   ],
   "source": [
    "cursor.execute(\"SHOW DATABASES\")\n",
    "for x in cursor:\n",
    "    print(x)"
   ]
  },
  {
   "cell_type": "code",
   "execution_count": 8,
   "metadata": {},
   "outputs": [
    {
     "name": "stdout",
     "output_type": "stream",
     "text": [
      "Table Colleges Created Successfully\n"
     ]
    }
   ],
   "source": [
    "database = mysql.connector.connect(\n",
    "    host='localhost',\n",
    "    user='root',\n",
    "    password='solo2018',\n",
    "    database='Academics2'\n",
    ")\n",
    "cursor = mydb.cursor()\n",
    "\n",
    "cursor.execute(\"CREATE TABLE IF NOT EXISTS Colleges(\"\n",
    "                  \"CollegeId INT PRIMARY KEY,\"\n",
    "                  \"CollegeName VARCHAR(100),\"\n",
    "                  \"CollegeAddress VARCHAR(100),\"\n",
    "                  \"CollegeCity VARCHAR(100),\"\n",
    "                  \"CollegeCountry VARCHAR(100))\")\n",
    "print(\"Table Colleges Created Successfully\")"
   ]
  },
  {
   "cell_type": "code",
   "execution_count": null,
   "metadata": {},
   "outputs": [],
   "source": [
    "import os\n",
    "os.getcwd()"
   ]
  },
  {
   "cell_type": "code",
   "execution_count": null,
   "metadata": {},
   "outputs": [],
   "source": [
    "import mysql.connector as brenda"
   ]
  },
  {
   "cell_type": "code",
   "execution_count": null,
   "metadata": {},
   "outputs": [],
   "source": [
    "mydb = brenda.connect(\n",
    "        host = \"localhost\",\n",
    "        user=\"root\",\n",
    "        password =\"solo2018\"\n",
    ")\n",
    "\n",
    "mycursor = mydb.cursor()\n",
    "\n",
    "mycursor.execute(\"SHOW DATABASES\")\n",
    "\n",
    "for brenda in mycursor:\n",
    "    print(brenda)"
   ]
  },
  {
   "cell_type": "code",
   "execution_count": null,
   "metadata": {},
   "outputs": [],
   "source": [
    "#def create_college_table():\n",
    "import mysql.connector as brenda\n",
    "\n",
    "mydb = brenda.connect(\n",
    "        host = \"localhost\",\n",
    "        user=\"root\",\n",
    "        password =\"solo2018\",\n",
    "        database = \"Academics2\"\n",
    ")\n",
    "mycursor = mydb.cursor()\n",
    "mycursor.execute(\"CREATE TABLE IF NOT EXISTS Colleges(\"\n",
    "                  \"CollegeId INT PRIMARY KEY,\"\n",
    "                  \"CollegeName VARCHAR(100),\"\n",
    "                  \"CollegeAddress VARCHAR(100),\"\n",
    "                  \"CollegeCity VARCHAR(100),\"\n",
    "                  \"CollegeCountry VARCHAR(100))\")\n",
    "print(\"Table Colleges Created Successfully\")"
   ]
  },
  {
   "cell_type": "code",
   "execution_count": 9,
   "metadata": {},
   "outputs": [
    {
     "name": "stdout",
     "output_type": "stream",
     "text": [
      "Table Professors Created Successfully\n"
     ]
    }
   ],
   "source": [
    "import mysql.connector as brenda\n",
    "\n",
    "mydb = brenda.connect(\n",
    "        host = \"localhost\",\n",
    "        user=\"root\",\n",
    "        password =\"solo2018\",\n",
    "        database = \"Academics2\"\n",
    ")\n",
    "mycursor = mydb.cursor()\n",
    "mycursor.execute(\"CREATE TABLE IF NOT EXISTS Professors(\"\n",
    "                 \"TeacherId INT(10) PRIMARY KEY,\"\n",
    "                  \"TeacherName VARCHAR(100),\"\n",
    "                  \"CollegeId INT(10),\"\n",
    "                  \"Specialty VARCHAR(100),\"\n",
    "                  \"Salary INT(100),\"\n",
    "                 \"Experience INT(10),\"\n",
    "                  \"DateJoined DATE);\")\n",
    "print(\"Table Professors Created Successfully\")"
   ]
  },
  {
   "cell_type": "code",
   "execution_count": 10,
   "metadata": {},
   "outputs": [
    {
     "name": "stdout",
     "output_type": "stream",
     "text": [
      "Table Students Created Successfully\n"
     ]
    }
   ],
   "source": [
    "import mysql.connector as brenda\n",
    "\n",
    "mydb = brenda.connect(\n",
    "        host = \"localhost\",\n",
    "        user=\"root\",\n",
    "        password =\"solo2018\",\n",
    "        database = \"Academics2\"\n",
    ")\n",
    "mycursor = mydb.cursor()\n",
    "mycursor.execute(\"CREATE TABLE IF NOT EXISTS Students(\"\n",
    "                 \"StudentId INT(10) PRIMARY KEY,\"\n",
    "                  \"StudentName VARCHAR(100),\"\n",
    "                  \"CollegeId INT(10),\"\n",
    "                  \"MajorTaken VARCHAR(100),\"\n",
    "                  \"CollegeLevel VARCHAR(100),\"\n",
    "                 \"StudentEmail VARCHAR(100),\"\n",
    "                  \"DateJoined DATE);\")\n",
    "print(\"Table Students Created Successfully\")"
   ]
  },
  {
   "cell_type": "code",
   "execution_count": null,
   "metadata": {},
   "outputs": [],
   "source": [
    "import mysql.connector as brenda\n",
    "\n",
    "mydb = brenda.connect(\n",
    "        host = \"localhost\",\n",
    "        user=\"root\",\n",
    "        password =\"solo2018\",\n",
    "        database = \"Academics2\"\n",
    ")\n",
    "\n",
    "mycursor = mydb.cursor()\n",
    "mycursor.execute(\"SHOW TABLES\")\n",
    "\n",
    "for x in mycursor:\n",
    "    print(x)"
   ]
  },
  {
   "cell_type": "code",
   "execution_count": 11,
   "metadata": {},
   "outputs": [
    {
     "name": "stdout",
     "output_type": "stream",
     "text": [
      "Data Entered\n"
     ]
    }
   ],
   "source": [
    "import mysql.connector as brenda\n",
    "import csv\n",
    "import pymysql\n",
    "\n",
    "mydb = brenda.connect(\n",
    "        host = \"localhost\",\n",
    "        user=\"root\",\n",
    "        password =\"solo2018\",\n",
    "        database = \"Academics2\"\n",
    ")\n",
    "esther = mydb.cursor()\n",
    "\n",
    "cursor = csv.reader(open(\"C:\\\\Users\\\\brenda.onyango\\\\Downloads\\\\Colleges.csv\",\"r\"))\n",
    "\n",
    "next(cursor)\n",
    "\n",
    "for row in cursor:\n",
    "    \n",
    "    esther.execute(\"INSERT INTO Colleges(CollegeId,CollegeName,CollegeAddress,CollegeCity,CollegeCountry) VALUES(%s,%s,%s,%s,%s)\",row)\n",
    "\n",
    "mydb.commit()\n",
    "esther.close()\n",
    "\n",
    "print(\"Data Entered\")"
   ]
  },
  {
   "cell_type": "code",
   "execution_count": 12,
   "metadata": {},
   "outputs": [
    {
     "name": "stdout",
     "output_type": "stream",
     "text": [
      "Data Entered\n"
     ]
    }
   ],
   "source": [
    "import mysql.connector as brenda\n",
    "import csv\n",
    "import pymysql\n",
    "\n",
    "mydb = brenda.connect(\n",
    "        host = \"localhost\",\n",
    "        user=\"root\",\n",
    "        password =\"solo2018\",\n",
    "        database = \"Academics2\"\n",
    ")\n",
    "esther = mydb.cursor()\n",
    "\n",
    "cursor = csv.reader(open(\"C:\\\\Users\\\\brenda.onyango\\\\Downloads\\\\Professors.csv\",\"r\"))\n",
    "\n",
    "next(cursor)\n",
    "\n",
    "for row in cursor:\n",
    "    \n",
    "    esther.execute(\"INSERT INTO Professors(TeacherId,TeacherName,CollegeId,Specialty,Salary,Experience,DateJoined) VALUES(%s,%s,%s,%s,%s,%s,%s)\",row)\n",
    "\n",
    "mydb.commit()\n",
    "esther.close()\n",
    "\n",
    "print(\"Data Entered\")"
   ]
  },
  {
   "cell_type": "code",
   "execution_count": 16,
   "metadata": {},
   "outputs": [
    {
     "name": "stdout",
     "output_type": "stream",
     "text": [
      "Data Entered\n"
     ]
    }
   ],
   "source": [
    " import mysql.connector as brenda\n",
    "import csv\n",
    "import pymysql\n",
    "\n",
    "mydb = brenda.connect(\n",
    "        host = \"localhost\",\n",
    "        user=\"root\",\n",
    "        password =\"solo2018\",\n",
    "        database = \"Academics2\"\n",
    ")\n",
    "esther = mydb.cursor()\n",
    "\n",
    "cursor = csv.reader(open(\"C:\\\\Users\\\\brenda.onyango\\\\Downloads\\\\Professors.csv\",\"r\"))\n",
    "\n",
    "next(cursor)\n",
    "\n",
    "for row in cursor:\n",
    "    \n",
    "    esther.execute(\"INSERT INTO Students(StudentId,StudentName,CollegeId,MajorTaken,CollegeLevel,StudentEmail,DateJoined) VALUES(%s,%s,%s,%s,%s,%s,%s)\",row)\n",
    "\n",
    "mydb.commit()\n",
    "esther.close()\n",
    "\n",
    "print(\"Data Entered\")"
   ]
  },
  {
   "cell_type": "code",
   "execution_count": 15,
   "metadata": {},
   "outputs": [
    {
     "name": "stdout",
     "output_type": "stream",
     "text": [
      "[]\n"
     ]
    },
    {
     "data": {
      "text/plain": [
       "True"
      ]
     },
     "execution_count": 15,
     "metadata": {},
     "output_type": "execute_result"
    }
   ],
   "source": [
    "import mysql.connector as brenda\n",
    "\n",
    "mydb = brenda.connect(\n",
    "        host = \"localhost\",\n",
    "        user=\"root\",\n",
    "        password =\"solo2018\",\n",
    "        database = \"Academics2\"\n",
    ")\n",
    "esther = mydb.cursor()\n",
    "\n",
    "esther.execute('''SELECT * FROM \n",
    "               (Colleges INNER JOIN Professors ON Colleges.CollegeId = Professors.CollegeId) \n",
    "               INNER JOIN Students ON Professors.CollegeId = Students.CollegeId''');\n",
    "print(esther.fetchall())\n",
    "\n",
    "mydb.commit()\n",
    "esther.close()"
   ]
  },
  {
   "cell_type": "code",
   "execution_count": 23,
   "metadata": {},
   "outputs": [
    {
     "name": "stdout",
     "output_type": "stream",
     "text": [
      "(2717238, 'Peach Rose', 4509129, 'Biology ', '90000', '15', datetime.date(2006, 2, 9), 4509129, 'New York University', '907 Nostrand Av', 'New York', 'USA', 2717238, 'Peach Rose', 4509129, 'Biology ', 90000, 15, datetime.date(2006, 2, 9))\n",
      "(4389203, 'Robert Evanson', 9026527, 'Psychology ', '110000', '26', datetime.date(1995, 4, 6), 9026527, 'Oxford University', '765 Lancaster Dr', 'London', 'England', 4389203, 'Robert Evanson', 9026527, 'Psychology ', 110000, 26, datetime.date(1995, 4, 6))\n",
      "(5260054, 'McCullin George', 8865252, 'Web Design ', '100000', '21', datetime.date(2000, 11, 3), 8865252, 'Nairobi University', '346 Uhuru Highway ', 'Nairobi', 'Kenya', 5260054, 'McCullin George', 8865252, 'Web Design ', 100000, 21, datetime.date(2000, 11, 3))\n",
      "(8292737, 'Jane Bobble', 6746295, 'Philosophy ', '75000', '12', datetime.date(2009, 11, 7), 6746295, 'University of Pretoria', '27 Jaohannes St', 'Pretoria', 'South Africa', 8292737, 'Jane Bobble', 6746295, 'Philosophy ', 75000, 12, datetime.date(2009, 11, 7))\n",
      "(9808929, 'Annie Apple', 8708601, 'English ', '120000', '23', datetime.date(1998, 3, 5), 8708601, 'Yale', '235 Bond St', 'New Haven', 'USA', 9808929, 'Annie Apple', 8708601, 'English ', 120000, 23, datetime.date(1998, 3, 5))\n"
     ]
    }
   ],
   "source": [
    "import mysql.connector as brenda\n",
    "\n",
    "mydb = brenda.connect(\n",
    "        host = \"localhost\",\n",
    "        user=\"root\",\n",
    "        password =\"solo2018\",\n",
    "        database = \"Academics2\"\n",
    ")\n",
    "esther = mydb.cursor()\n",
    "\n",
    "def studies():\n",
    "    esther.execute(\"\"\"SELECT * FROM Students INNER JOIN Colleges ON Colleges.CollegeId = Students.CollegeId \n",
    "               INNER JOIN Professors ON Colleges.CollegeId = Professors.CollegeId\"\"\")\n",
    "\n",
    "    \n",
    "    for z in esther.fetchall():\n",
    "        print(z)\n",
    "\n",
    "studies()"
   ]
  },
  {
   "cell_type": "code",
   "execution_count": null,
   "metadata": {},
   "outputs": [],
   "source": []
  }
 ],
 "metadata": {
  "kernelspec": {
   "display_name": "Python 3",
   "language": "python",
   "name": "python3"
  },
  "language_info": {
   "codemirror_mode": {
    "name": "ipython",
    "version": 3
   },
   "file_extension": ".py",
   "mimetype": "text/x-python",
   "name": "python",
   "nbconvert_exporter": "python",
   "pygments_lexer": "ipython3",
   "version": "3.8.5"
  }
 },
 "nbformat": 4,
 "nbformat_minor": 4
}
